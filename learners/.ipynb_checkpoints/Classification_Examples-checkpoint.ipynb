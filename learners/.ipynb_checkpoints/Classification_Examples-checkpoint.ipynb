{
 "cells": [
  {
   "cell_type": "code",
   "execution_count": 8,
   "metadata": {},
   "outputs": [
    {
     "data": {
      "text/plain": [
       "<matplotlib.image.AxesImage at 0x266472f5b70>"
      ]
     },
     "execution_count": 8,
     "metadata": {},
     "output_type": "execute_result"
    },
    {
     "data": {
      "image/png": "[encoded data removed]",
      "text/plain": [
       "<Figure size 432x288 with 1 Axes>"
      ]
     },
     "metadata": {},
     "output_type": "display_data"
    }
   ],
   "source": [
    "import tensorflow as tf\n",
    "import numpy as np\n",
    "from scipy.io import loadmat\n",
    "import TFLearners\n",
    "%matplotlib inline\n",
    "\n",
    "import matplotlib.pyplot as plt\n",
    "import matplotlib.image as mpimg\n",
    "\n",
    "# load the datasets\n",
    "trainfile = \"datasets/housenumbers/train_32x32.mat\"\n",
    "trainset = loadmat(trainfile)\n",
    "X = trainset['X']\n",
    "y = trainset['y']\n",
    "testfile = \"datasets/housenumbers/test_32x32.mat\"\n",
    "testset = loadmat(testfile)\n",
    "\n",
    "# use just a portion of the test set\n",
    "testX = testset['X'][:, :, :, 0:1000]\n",
    "testy = testset['y'][0:1000, :]\n",
    "epochs = 10\n",
    "batch_size = 50\n",
    "xshape = X.shape[0]\n",
    "yshape = X.shape[1]\n",
    "\n",
    "plt.imshow(X[:,:,:,0])\n",
    "\n",
    "\n",
    "\n",
    "\n"
   ]
  },
  {
   "cell_type": "code",
   "execution_count": 9,
   "metadata": {},
   "outputs": [
    {
     "name": "stdout",
     "output_type": "stream",
     "text": [
      "WARNING:tensorflow:From D:\\Projects\\learners\\learners\\TFLearners.py:76: softmax_cross_entropy_with_logits (from tensorflow.python.ops.nn_ops) is deprecated and will be removed in a future version.\n",
      "Instructions for updating:\n",
      "\n",
      "Future major versions of TensorFlow will allow gradients to flow\n",
      "into the labels input on backprop by default.\n",
      "\n",
      "See @{tf.nn.softmax_cross_entropy_with_logits_v2}.\n",
      "\n",
      "Epoch: 1 cost = 0.894 test accuracy: 0.815\n",
      "Epoch: 2 cost = 0.414 test accuracy: 0.838\n",
      "Epoch: 3 cost = 0.323 test accuracy: 0.852\n",
      "Epoch: 4 cost = 0.253 test accuracy: 0.860\n",
      "Epoch: 5 cost = 0.195 test accuracy: 0.869\n",
      "Epoch: 6 cost = 0.152 test accuracy: 0.872\n",
      "Epoch: 7 cost = 0.117 test accuracy: 0.886\n",
      "Epoch: 8 cost = 0.085 test accuracy: 0.875\n",
      "Epoch: 9 cost = 0.070 test accuracy: 0.867\n",
      "Epoch: 10 cost = 0.055 test accuracy: 0.875\n",
      "0.875\n",
      "\n",
      "Training complete!\n"
     ]
    }
   ],
   "source": [
    "nn = TFLearners.TensorFlowNeuralNetwork(xshape, yshape, len(np.unique(y)))\n",
    "nn.train(X, y, testX, testy, epochs, batch_size)"
   ]
  }
 ],
 "metadata": {
  "kernelspec": {
   "display_name": "Python 3",
   "language": "python",
   "name": "python3"
  },
  "language_info": {
   "codemirror_mode": {
    "name": "ipython",
    "version": 3
   },
   "file_extension": ".py",
   "mimetype": "text/x-python",
   "name": "python",
   "nbconvert_exporter": "python",
   "pygments_lexer": "ipython3",
   "version": "3.6.4"
  }
 },
 "nbformat": 4,
 "nbformat_minor": 1
}
